{
 "cells": [
  {
   "cell_type": "code",
   "execution_count": 1,
   "metadata": {},
   "outputs": [],
   "source": [
    "import numpy as np\n",
    "import matplotlib.pyplot as plt\n",
    "from scipy.stats import sem\n",
    "#import timeit\n",
    "\n",
    "import moduli_miguel as mm\n",
    "from estimators import fit_RIE_CV,fit_Shrinkage_CV,fit_FactorAnalysis_CV,fit_GradientAscentWishart,fit_PCA_CV\n",
    "from utils import split_train_test, merge_dicts, generate_data_dirichlet\n",
    "\n",
    "#fa comparire i grafici direttamente sul notebook\n",
    "%matplotlib inline \n",
    "plt.rcParams['image.cmap'] = 'viridis'\n",
    "plt.rcParams['figure.figsize'] = (12,8)\n",
    "\n",
    "%load_ext autoreload\n",
    "%autoreload 2"
   ]
  },
  {
   "cell_type": "code",
   "execution_count": 2,
   "metadata": {},
   "outputs": [],
   "source": [
    "from analyseData import plot2matrices"
   ]
  },
  {
   "cell_type": "code",
   "execution_count": 3,
   "metadata": {},
   "outputs": [],
   "source": [
    "Ns=1\n",
    "Ttrain=144\n",
    "Ttest = int(Ttrain * 20/80)  #small Ttest\n",
    "alpha=2.\n",
    "N=116\n",
    "\n",
    "Xall, Call, Uall, lambdas = generate_data_dirichlet(Ns=Ns, T=Ttrain+Ttest, \n",
    "                                                        alpha=alpha, N=N)\n",
    "Xtrain, Xtest = split_train_test(Xall[0], train_fraction=Ttrain/(Ttrain+Ttest), standardize=True)\n",
    "\n",
    "thisCtrain = (Xtrain.T @ Xtrain) / Ttrain"
   ]
  },
  {
   "cell_type": "code",
   "execution_count": 4,
   "metadata": {},
   "outputs": [],
   "source": [
    "result_RIE=fit_RIE_CV(Xtrain,Xtest)"
   ]
  },
  {
   "cell_type": "code",
   "execution_count": 5,
   "metadata": {},
   "outputs": [],
   "source": [
    "result_shrinkage=fit_Shrinkage_CV(Xtrain,Xtest)"
   ]
  },
  {
   "cell_type": "code",
   "execution_count": 6,
   "metadata": {},
   "outputs": [],
   "source": [
    "result_PCA=fit_PCA_CV(Xtrain,Xtest)"
   ]
  },
  {
   "cell_type": "code",
   "execution_count": 7,
   "metadata": {},
   "outputs": [],
   "source": [
    "if True:\n",
    "    result_SGAW_c=fit_GradientAscentWishart(Xtrain, Xtest, bootstrapping=True, stop='completion',val_frac=0.1)\n",
    "    result_GAW_c =fit_GradientAscentWishart(Xtrain, Xtest, bootstrapping=False,stop='completion',val_frac=0.1)\n"
   ]
  },
  {
   "cell_type": "code",
   "execution_count": 8,
   "metadata": {},
   "outputs": [],
   "source": [
    "if True:\n",
    "    result_SGAW_l=fit_GradientAscentWishart(Xtrain, Xtest, bootstrapping=True, stop='likelihood',val_frac=0.1)\n",
    "    result_GAW_l =fit_GradientAscentWishart(Xtrain, Xtest, bootstrapping=False,stop='likelihood',val_frac=0.1)\n"
   ]
  },
  {
   "cell_type": "code",
   "execution_count": 201,
   "metadata": {
    "scrolled": false
   },
   "outputs": [],
   "source": [
    "if False:\n",
    "    result_FA=fit_FactorAnalysis_CV(Xtrain,Xtest)"
   ]
  },
  {
   "cell_type": "code",
   "execution_count": 9,
   "metadata": {},
   "outputs": [
    {
     "name": "stdout",
     "output_type": "stream",
     "text": [
      "-142.66152635521914 SGAW_c\n",
      "-142.07060875767462 SGAW_l\n",
      "-142.3103323492702 GAW_c\n",
      "-142.08037561492125 GAW_l\n",
      "-147.33201759717397 PCA\n",
      "-141.68904635175832 shrinkage\n",
      "-141.74492056337667 RIE\n"
     ]
    }
   ],
   "source": [
    "print_likelihoods=True\n",
    "if print_likelihoods:\n",
    "    print (result_SGAW_c['test_likelihood'],'SGAW_c')\n",
    "    print (result_SGAW_l['test_likelihood'],'SGAW_l')\n",
    "    print (result_GAW_c['test_likelihood'],'GAW_c')\n",
    "    print (result_GAW_l['test_likelihood'],'GAW_l')\n",
    "\n",
    "    print (result_PCA['test_likelihood'],'PCA')\n",
    "    print (result_shrinkage['test_likelihood'],'shrinkage')\n",
    "    print (result_RIE['test_likelihood'],'RIE')"
   ]
  },
  {
   "cell_type": "markdown",
   "metadata": {},
   "source": [
    "### explicit test of SGA à la Wishart using the function gradient_ascent_Wishart_multiplier(), not the estimator GradientAscentWishart()"
   ]
  },
  {
   "cell_type": "code",
   "execution_count": 31,
   "metadata": {},
   "outputs": [],
   "source": [
    "T_GAW=int(0.9*Ttrain)\n",
    "\n",
    "thisXtrain=np.copy(Xtrain)\n",
    "\n",
    "Xtrain_GAW = thisXtrain[:T_GAW]\n",
    "Xval = thisXtrain[T_GAW:]\n",
    "Ctrain_GAW = Xtrain_GAW.T @ Xtrain_GAW / T_GAW\n",
    "Yinit = np.eye(N)\n",
    "B = int(Ttrain*0.25)\n",
    "maxepochs = 8000\n",
    "\n",
    "#traces=False \n",
    "traces=[]\n",
    "\n",
    "\n",
    "likelihoods_tr_GAW,likelihoods_te_GAW,completions_te_GAW,steps_GAW,J_GAW = \\\n",
    "                mm.gradient_ascent_Wishart_multiplier(Xtrain_GAW,Ctrain_GAW,maxepochs=maxepochs,eta=1.0E-4,B=B,Y_init=Yinit,\\\n",
    "                                      bootstrapping=True,datate=Xval,stop=False,traces=traces)\n",
    "\n",
    "C_GAW=np.linalg.inv(J_GAW)"
   ]
  },
  {
   "cell_type": "code",
   "execution_count": 11,
   "metadata": {},
   "outputs": [],
   "source": [
    "plot_traces=False\n",
    "\n",
    "if plot_traces and traces!=False:\n",
    "    plt.plot(steps_GAW,traces,'.-')\n",
    "    plt.plot(steps_GAW,len(steps_GAW)*[N],'-',color='black')\n",
    "#plt.savefig('trace_oscillations.pdf')\n"
   ]
  },
  {
   "cell_type": "code",
   "execution_count": 13,
   "metadata": {},
   "outputs": [],
   "source": [
    "plot_likelihoods=False\n",
    "if plot_likelihoods:\n",
    "    plt.plot(steps_GAW,likelihoods_tr_GAW,'s-')\n",
    "    plt.plot(steps_GAW,likelihoods_te_GAW,'x-')\n",
    "\n",
    "    plt.show()\n"
   ]
  },
  {
   "cell_type": "markdown",
   "metadata": {},
   "source": [
    "## comparing the spectra: "
   ]
  },
  {
   "cell_type": "code",
   "execution_count": 14,
   "metadata": {},
   "outputs": [],
   "source": [
    "if False:\n",
    "    plt.plot(np.log(np.sort(np.linalg.eigvals(thisCtrain))),'s')\n",
    "    #plt.plot(np.log(np.sort(np.linalg.eigvals(C_GAW))),'x',ms=20.,label='GAW')\n",
    "    plt.plot(np.log(np.sort(np.linalg.eigvals(result_GAW_c['Cclean']))),'x',ms=20.,label='GAW-c')\n",
    "    plt.plot(np.log(np.sort(np.linalg.eigvals(result_SGAW_c['Cclean']))),'x',ms=20.,label='SGAW-c')\n",
    "    plt.plot(np.log(np.sort(np.linalg.eigvals(result_RIE['Cclean']))),'s',label='RIE')\n",
    "    plt.plot(np.log(np.sort(np.linalg.eigvals(result_shrinkage['Cclean']))),'s',label='shrinkage')\n",
    "    plt.plot(np.log(np.sort(np.linalg.eigvals(Call[0]))),'s',label='TRUE')\n",
    "    plt.legend()\n",
    "    plt.show()"
   ]
  },
  {
   "cell_type": "markdown",
   "metadata": {},
   "source": [
    "## comparing with the true C and J matrices: "
   ]
  },
  {
   "cell_type": "code",
   "execution_count": 15,
   "metadata": {
    "scrolled": false
   },
   "outputs": [],
   "source": [
    "plotCdiffs=False\n",
    "if plotCdiffs:\n",
    "    plot2matrices(np.abs(Call[0]-C_GAW),np.abs(Call[0]-thisCtrain),title='$|C^v-C^*_{GAW}|$'\\\n",
    "                      ,ylabel='|$C^{v}-E|$',ticksspacing=10)\n",
    "    plot2matrices(np.abs(Call[0]-C_GAW),np.abs(Call[0]-result_shrinkage['Cclean'])\\\n",
    "                      ,title='$|C^v-C^*_{GAW}|$',ylabel='$|C^v-C^*_{shr}|$',ticksspacing=10)\n",
    "    plot2matrices(np.abs(Call[0]-C_GAW),np.abs(Call[0]-result_RIE['Cclean'])\\\n",
    "                      ,title='$|C^v-C^*_{GAW}|$',ylabel='$|C^v-C^*_{RIE}|$',ticksspacing=10)\n",
    "\n",
    "    plot2matrices(np.abs(Call[0]-C_GAW),np.abs(Call[0]-result_PCA['Cclean'])\\\n",
    "                      ,title='$|C^v-C^*_{GAW}|$',ylabel='$|C^v-C^*_{PCA}|$',ticksspacing=10)\n"
   ]
  },
  {
   "cell_type": "code",
   "execution_count": 142,
   "metadata": {},
   "outputs": [],
   "source": [
    "plotJdiffs=False\n",
    "if plotJdiffs:\n",
    "    Jtrue=np.linalg.inv(Call[0])\n",
    "    \n",
    "    plot2matrices(np.abs(Jtrue-np.linalg.inv(thisCtrain)),np.abs(Jtrue-J_GAW),title='|$J^{v}-E^{-1}|$'\\\n",
    "                      ,ylabel='$|J^v-J^*_{GAW}|$')\n",
    "\n",
    "    plot2matrices(np.abs(Jtrue-J_GAW),np.abs(Jtrue-np.linalg.inv(result_shrinkage['Cclean']))\\\n",
    "                      ,title='$|J^v-J^*_{GAW}|$',ylabel='$|J^v-J^*_{shr}|$')\n",
    "\n",
    "    plot2matrices(np.abs(Jtrue-np.linalg.inv(result_RIE['Cclean'])),np.abs(Jtrue-J_GAW)\\\n",
    "                      ,title='$|J^v-J^*_{RIE}|$',ylabel='$|J^v-J^*_{GAW}|$')\n",
    "\n"
   ]
  },
  {
   "cell_type": "code",
   "execution_count": null,
   "metadata": {},
   "outputs": [],
   "source": []
  }
 ],
 "metadata": {
  "interpreter": {
   "hash": "df2c85cc161c8d720baf0e77d83fbfec3548e33688a78c48132ea53daa487a96"
  },
  "kernelspec": {
   "display_name": "Python 3",
   "language": "python",
   "name": "python3"
  },
  "language_info": {
   "codemirror_mode": {
    "name": "ipython",
    "version": 3
   },
   "file_extension": ".py",
   "mimetype": "text/x-python",
   "name": "python",
   "nbconvert_exporter": "python",
   "pygments_lexer": "ipython3",
   "version": "3.8.3"
  },
  "metadata": {
   "interpreter": {
    "hash": "a0fe4a849612ccdef88fb842a07a996c9c1829eb9fc6367bca4a494fd43e2c2f"
   }
  }
 },
 "nbformat": 4,
 "nbformat_minor": 2
}
